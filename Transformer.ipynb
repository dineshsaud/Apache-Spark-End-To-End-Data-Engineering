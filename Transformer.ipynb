{
 "cells": [
  {
   "cell_type": "code",
   "execution_count": 0,
   "metadata": {
    "application/vnd.databricks.v1+cell": {
     "cellMetadata": {
      "byteLimit": 2048000,
      "rowLimit": 10000
     },
     "inputWidgets": {},
     "nuid": "1c072013-fc82-48ad-8d99-0e068f5f29d7",
     "showTitle": false,
     "tableResultSettingsMap": {},
     "title": ""
    }
   },
   "outputs": [],
   "source": [
    "from pyspark.sql.functions import array_contains, size\n",
    "\n",
    "class OnlyAirPodsAndIphoneTransformer(Transformer):\n",
    "    \"\"\"\n",
    "    Customer who have bought only iphone or only airpods \n",
    "    \"\"\"\n",
    "    def transform(self, MyDF):\n",
    "        transactionInputDF = MyDF.get(\"transactionInputDf\")\n",
    "        \n",
    "        print(\"Transaction Input DF\")\n",
    "        transactionInputDF.show()\n",
    "\n",
    "        groupedDF = transactionInputDF.groupBy(\"customer_id\").agg(\n",
    "            collect_set(\"product_name\").alias(\"products\")\n",
    "        )\n",
    "\n",
    "        groupedDF.show()\n",
    "    \n",
    "        # Assuming the requirement is to find customers who bought either only iPhones or only AirPods\n",
    "        filteredDF = groupedDF.filter(\n",
    "            (array_contains(col(\"products\"), \"iPhone\")) &\n",
    "            (array_contains(col(\"products\"), \"AirPods\")) &\n",
    "            (size(col(\"products\")) == 2)\n",
    "            \n",
    "            )\n",
    "             \n",
    "            \n",
    "        \n",
    "        \n",
    "        print(\"Only AirPods or iPhone\")\n",
    "        filteredDF.show()\n",
    "\n",
    "        customerInputDF = MyDF.get(\"customerInputDF\")\n",
    "        customerInputDF.show()\n",
    "\n",
    "        print(\"Joined DF\")\n",
    "        joinDF = customerInputDF.join(\n",
    "            broadcast(filteredDF), \"customer_id\"\n",
    "        )\n",
    "\n",
    "        joinDF.select(\"customer_id\", \"customer_name\", \"location\").show()\n",
    "\n",
    "        return joinDF\n"
   ]
  },
  {
   "cell_type": "code",
   "execution_count": 0,
   "metadata": {
    "application/vnd.databricks.v1+cell": {
     "cellMetadata": {
      "byteLimit": 2048000,
      "rowLimit": 10000
     },
     "inputWidgets": {},
     "nuid": "ccf9101f-aa7b-4535-8c55-386f48f52900",
     "showTitle": false,
     "tableResultSettingsMap": {},
     "title": ""
    }
   },
   "outputs": [],
   "source": []
  }
 ],
 "metadata": {
  "application/vnd.databricks.v1+notebook": {
   "computePreferences": null,
   "dashboards": [],
   "environmentMetadata": {
    "base_environment": "",
    "client": "1"
   },
   "language": "python",
   "notebookMetadata": {
    "pythonIndentUnit": 4
   },
   "notebookName": "Transformer",
   "widgets": {}
  }
 },
 "nbformat": 4,
 "nbformat_minor": 0
}
