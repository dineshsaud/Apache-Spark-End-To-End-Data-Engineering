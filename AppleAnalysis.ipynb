{
 "cells": [
  {
   "cell_type": "code",
   "execution_count": 0,
   "metadata": {
    "application/vnd.databricks.v1+cell": {
     "cellMetadata": {
      "byteLimit": 2048000,
      "rowLimit": 10000
     },
     "inputWidgets": {},
     "nuid": "63475de0-873e-4f33-836e-c78c80244208",
     "showTitle": false,
     "tableResultSettingsMap": {},
     "title": ""
    }
   },
   "outputs": [],
   "source": [
    "%run \"./Transformer\"\n"
   ]
  },
  {
   "cell_type": "code",
   "execution_count": 0,
   "metadata": {
    "application/vnd.databricks.v1+cell": {
     "cellMetadata": {
      "byteLimit": 2048000,
      "rowLimit": 10000
     },
     "inputWidgets": {},
     "nuid": "10b6fdc6-dcbd-4cc1-a12e-b9acf00cbe7c",
     "showTitle": false,
     "tableResultSettingsMap": {},
     "title": ""
    }
   },
   "outputs": [],
   "source": [
    "%run \"./reader_factory\"\n"
   ]
  },
  {
   "cell_type": "code",
   "execution_count": 0,
   "metadata": {
    "application/vnd.databricks.v1+cell": {
     "cellMetadata": {
      "byteLimit": 2048000,
      "rowLimit": 10000
     },
     "inputWidgets": {},
     "nuid": "1512631a-6ed3-4b96-9d97-b6f571aa61d2",
     "showTitle": false,
     "tableResultSettingsMap": {},
     "title": ""
    }
   },
   "outputs": [],
   "source": [
    "%run \"./extractor\""
   ]
  },
  {
   "cell_type": "code",
   "execution_count": 0,
   "metadata": {
    "application/vnd.databricks.v1+cell": {
     "cellMetadata": {
      "byteLimit": 2048000,
      "rowLimit": 10000
     },
     "inputWidgets": {},
     "nuid": "d8adfe3a-bacd-4001-8080-358ce2044015",
     "showTitle": false,
     "tableResultSettingsMap": {},
     "title": ""
    }
   },
   "outputs": [],
   "source": [
    "%run \"./loader\""
   ]
  },
  {
   "cell_type": "code",
   "execution_count": 0,
   "metadata": {
    "application/vnd.databricks.v1+cell": {
     "cellMetadata": {
      "byteLimit": 2048000,
      "rowLimit": 10000
     },
     "inputWidgets": {},
     "nuid": "55a88ea0-2c4c-44f5-9aef-ea5304c0c4a2",
     "showTitle": false,
     "tableResultSettingsMap": {},
     "title": ""
    }
   },
   "outputs": [],
   "source": [
    "class firstWorkFlow:\n",
    "\n",
    "    \"\"\"\n",
    "    ETL pipeline to fetch the data of all the customer who has brought airpods after buying apple phon\n",
    "    \"\"\"\n",
    "    def __init__(self):\n",
    "        pass \n",
    "\n",
    "    def runner(self):\n",
    "       \n",
    "       \n",
    "        # STEP 1 : this extract required data from different source \n",
    "\n",
    "        inputDFs = AirPoadsAfterIphoneExtractor().extract()\n",
    "\n",
    "\n",
    "        # STEP 2: This includes transformation logic for data transformation\n",
    "        firstTransformedDF = AirPodsAfterIphoneTransformer().transform(\n",
    "            inputDFs\n",
    "        )\n",
    "\n",
    "        # STEP 3:  load data to different sink\n",
    "\n",
    "\n",
    "        AirPodsAfterIphoneLoader(firstTransformedDF).sink()\n"
   ]
  },
  {
   "cell_type": "code",
   "execution_count": 0,
   "metadata": {
    "application/vnd.databricks.v1+cell": {
     "cellMetadata": {
      "byteLimit": 2048000,
      "rowLimit": 10000
     },
     "inputWidgets": {},
     "nuid": "cb5d63d5-1599-42bf-aff7-8ae8faf9dfa0",
     "showTitle": false,
     "tableResultSettingsMap": {},
     "title": ""
    }
   },
   "outputs": [],
   "source": [
    "# |from pyspark.sql import SparkSession\n",
    "\n",
    "# spark = SparkSession.builder.appName(\"MySelfProject.me\").getOrCreate()\n",
    "\n",
    "# input_df = spark.read.format(\"csv\").option(\"header\",True).load(\"dbfs:/FileStore/tables/Transaction_Updated.csv\")\n",
    "\n",
    "# input_df.show()"
   ]
  },
  {
   "cell_type": "code",
   "execution_count": 0,
   "metadata": {
    "application/vnd.databricks.v1+cell": {
     "cellMetadata": {
      "byteLimit": 2048000,
      "rowLimit": 10000
     },
     "inputWidgets": {},
     "nuid": "cf13de2c-002c-47dd-93ff-7fde8f8dae02",
     "showTitle": false,
     "tableResultSettingsMap": {},
     "title": ""
    }
   },
   "outputs": [],
   "source": [
    "class SecondWorkFlow:\n",
    "\n",
    "    \"\"\"\n",
    "    ETL pipeline to fetch the data of all the customer who has brought airpods after buying apple phon\n",
    "    \"\"\"\n",
    "    def __init__(self):\n",
    "        pass \n",
    "\n",
    "    def runner(self):\n",
    "       \n",
    "       \n",
    "        # STEP 1 : this extract required data from different source \n",
    "\n",
    "        inputDFs = AirPoadsAfterIphoneExtractor().extract()\n",
    "\n",
    "\n",
    "        # STEP 2: This includes transformation logic for data transformation            \n",
    "        OnlyAirPodsAndIphoneDF = OnlyAirPodsAndIphoneTransformer().transform(\n",
    "            inputDFs\n",
    "        )\n",
    "\n",
    "        # STEP 3:  load data to different sink\n",
    "\n",
    "\n",
    "        OnlyAirPodsAndIphoneLoader(OnlyAirPodsAndIphoneDF).sink()"
   ]
  },
  {
   "cell_type": "code",
   "execution_count": 0,
   "metadata": {
    "application/vnd.databricks.v1+cell": {
     "cellMetadata": {
      "byteLimit": 2048000,
      "rowLimit": 10000
     },
     "inputWidgets": {},
     "nuid": "38bdf587-48d3-439e-bc57-c497c385be09",
     "showTitle": false,
     "tableResultSettingsMap": {},
     "title": ""
    }
   },
   "outputs": [
    {
     "output_type": "stream",
     "name": "stdout",
     "output_type": "stream",
     "text": [
      "Transaction Input DF\n+--------------+-----------+------------+----------------+\n|transaction_id|customer_id|product_name|transaction_date|\n+--------------+-----------+------------+----------------+\n|            11|        105|      iPhone|      2022-02-01|\n|            12|        106|      iPhone|      2022-02-02|\n|            13|        107|     AirPods|      2022-02-03|\n|            14|        105|     AirPods|      2022-02-04|\n|            15|        108|      iPhone|      2022-02-05|\n|            16|        106|     MacBook|      2022-02-06|\n|            17|        107|      iPhone|      2022-02-07|\n|            18|        105|     MacBook|      2022-02-08|\n|            19|        108|     AirPods|      2022-02-09|\n|            20|        106|     AirPods|      2022-02-10|\n+--------------+-----------+------------+----------------+\n\n+-----------+--------------------+\n|customer_id|            products|\n+-----------+--------------------+\n|        107|   [AirPods, iPhone]|\n|        108|   [AirPods, iPhone]|\n|        106|[AirPods, iPhone,...|\n|        105|[AirPods, iPhone,...|\n+-----------+--------------------+\n\nOnly AirPods or iPhone\n+-----------+-----------------+\n|customer_id|         products|\n+-----------+-----------------+\n|        107|[AirPods, iPhone]|\n|        108|[AirPods, iPhone]|\n+-----------+-----------------+\n\n+-----------+-------------+-------------------+--------+\n|customer_id|customer_name|          join_date|location|\n+-----------+-------------+-------------------+--------+\n|        105|          Eva|2022-01-01 00:00:00|    Ohio|\n|        106|        Frank|2022-02-01 00:00:00|  Nevada|\n|        107|        Grace|2022-03-01 00:00:00|Colorado|\n|        108|        Henry|2022-04-01 00:00:00|    Utah|\n+-----------+-------------+-------------------+--------+\n\nJoined DF\n+-----------+-------------+--------+\n|customer_id|customer_name|location|\n+-----------+-------------+--------+\n|        107|        Grace|Colorado|\n|        108|        Henry|    Utah|\n+-----------+-------------+--------+\n\n"
     ]
    }
   ],
   "source": [
    "class WorkFlowRunner():\n",
    "\n",
    "    def __init__(self,name):\n",
    "        self.name = name\n",
    "\n",
    "    def runner(self):\n",
    "        if self.name == \"firstWorkFlow\":\n",
    "            return firstWorkFlow().runner()\n",
    "        \n",
    "        elif self.name == \"secondWorkFlow\":\n",
    "            return SecondWorkFlow().runner()\n",
    "\n",
    "\n",
    "name = \"secondWorkFlow\"\n",
    "\n",
    "Workflow = WorkFlowRunner(name).runner()"
   ]
  }
 ],
 "metadata": {
  "application/vnd.databricks.v1+notebook": {
   "computePreferences": null,
   "dashboards": [],
   "environmentMetadata": {
    "base_environment": "",
    "client": "1"
   },
   "language": "python",
   "notebookMetadata": {
    "pythonIndentUnit": 4
   },
   "notebookName": "AppleAnalysis",
   "widgets": {}
  }
 },
 "nbformat": 4,
 "nbformat_minor": 0
}
