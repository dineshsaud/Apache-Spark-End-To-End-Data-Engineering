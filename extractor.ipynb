{
 "cells": [
  {
   "cell_type": "code",
   "execution_count": 0,
   "metadata": {
    "application/vnd.databricks.v1+cell": {
     "cellMetadata": {
      "byteLimit": 2048000,
      "rowLimit": 10000
     },
     "inputWidgets": {},
     "nuid": "e3a77205-50ae-4d68-a13c-952a9a12ef1e",
     "showTitle": false,
     "tableResultSettingsMap": {},
     "title": ""
    }
   },
   "outputs": [],
   "source": [
    "class Extractor:\n",
    "    \"\"\"\n",
    "    abstrac class \n",
    "    \"\"\"\n",
    "    \n",
    "    def __init__(self):\n",
    "        pass \n",
    "\n",
    "    def extract(self):\n",
    "        pass\n",
    "\n",
    "class AirPoadsAfterIphoneExtractor(Extractor):\n",
    "\n",
    "    def extract(self):\n",
    "        \"\"\"\n",
    "        # Extractor code\n",
    "\n",
    "        \"\"\"\n",
    "        transactionInputDf = get_data_source(\n",
    "            data_type =\"csv\",\n",
    "            file_path=\"dbfs:/FileStore/tables/Transaction_Updated.csv\"\n",
    "            ).get_data_frame()\n",
    "        \n",
    "        customerInputDF = get_data_source(\n",
    "            data_type =\"delta\",\n",
    "            file_path=\"default.customer_delta_table\"\n",
    "            ).get_data_frame()\n",
    "        \n",
    "        \n",
    "        MyDF = {\n",
    "            \"transactionInputDf\" : transactionInputDf,\n",
    "            \"customerInputDF\":customerInputDF\n",
    "\n",
    "        }\n",
    "        \n",
    "\n",
    "        return MyDF\n",
    "    "
   ]
  }
 ],
 "metadata": {
  "application/vnd.databricks.v1+notebook": {
   "computePreferences": null,
   "dashboards": [],
   "environmentMetadata": {
    "base_environment": "",
    "client": "1"
   },
   "language": "python",
   "notebookMetadata": {
    "pythonIndentUnit": 4
   },
   "notebookName": "extractor",
   "widgets": {}
  }
 },
 "nbformat": 4,
 "nbformat_minor": 0
}
