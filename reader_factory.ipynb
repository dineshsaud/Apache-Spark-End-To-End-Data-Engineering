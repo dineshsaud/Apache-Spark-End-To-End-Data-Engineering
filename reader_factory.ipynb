{
 "cells": [
  {
   "cell_type": "code",
   "execution_count": 0,
   "metadata": {
    "application/vnd.databricks.v1+cell": {
     "cellMetadata": {
      "byteLimit": 2048000,
      "rowLimit": 10000
     },
     "inputWidgets": {},
     "nuid": "3774999b-cab7-4c7b-ba59-43cef33a287b",
     "showTitle": false,
     "tableResultSettingsMap": {},
     "title": ""
    }
   },
   "outputs": [],
   "source": [
    "class DataSource:\n",
    "    \"\"\"\n",
    "    Abstract Class\n",
    "    \"\"\"\n",
    "    def __init__(self, path):\n",
    "        self.path = path\n",
    "\n",
    "    def get_data_frame(self):\n",
    "        \"\"\"\n",
    "        Abstract method, that will be implemented in sub classes \n",
    "        \"\"\"\n",
    "        raise ValueError(\"Not Implemented\")\n",
    "\n",
    "class CSVDataSource(DataSource):\n",
    "    def get_data_frame(self):\n",
    "        return (\n",
    "            spark.read.format(\"csv\")\n",
    "            .option(\"header\", True)\n",
    "            \n",
    "            .load(self.path)\n",
    "        )\n",
    "\n",
    "class ParquetDataSource(DataSource):\n",
    "    def get_data_frame(self):\n",
    "        return (\n",
    "            spark.read.format(\"parquet\")\n",
    "            .option(\"header\", True)\n",
    "            .load(self.path)\n",
    "        )\n",
    "\n",
    "class DeltaDataSource(DataSource):\n",
    "    def get_data_frame(self):\n",
    "        table_name = self.path\n",
    "        return (\n",
    "            spark\n",
    "            .read\n",
    "            .table(table_name)\n",
    "           \n",
    "        )\n",
    "\n",
    "def get_data_source(data_type, file_path):\n",
    "    if data_type == \"csv\":\n",
    "        return CSVDataSource(file_path)\n",
    "    elif data_type == \"parquet\":\n",
    "        return ParquetDataSource(file_path)\n",
    "    elif data_type == \"delta\":\n",
    "        return DeltaDataSource(file_path)\n",
    "    else:\n",
    "        raise ValueError(f\"Not Implemented for Data Type: {data_type}\")"
   ]
  },
  {
   "cell_type": "code",
   "execution_count": 0,
   "metadata": {
    "application/vnd.databricks.v1+cell": {
     "cellMetadata": {},
     "inputWidgets": {},
     "nuid": "ff03ad8d-05ca-40d7-84d6-e44dc7f2bf33",
     "showTitle": false,
     "tableResultSettingsMap": {},
     "title": ""
    }
   },
   "outputs": [],
   "source": []
  }
 ],
 "metadata": {
  "application/vnd.databricks.v1+notebook": {
   "computePreferences": null,
   "dashboards": [],
   "environmentMetadata": {
    "base_environment": "",
    "client": "1"
   },
   "language": "python",
   "notebookMetadata": {
    "pythonIndentUnit": 4
   },
   "notebookName": "reader_factory",
   "widgets": {}
  }
 },
 "nbformat": 4,
 "nbformat_minor": 0
}
